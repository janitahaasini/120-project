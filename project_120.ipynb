{
  "nbformat": 4,
  "nbformat_minor": 0,
  "metadata": {
    "colab": {
      "name": "project-120.ipynb",
      "provenance": [],
      "authorship_tag": "ABX9TyNw6KTwph7WWPFRdYR7Wvsy",
      "include_colab_link": true
    },
    "kernelspec": {
      "name": "python3",
      "display_name": "Python 3"
    },
    "language_info": {
      "name": "python"
    }
  },
  "cells": [
    {
      "cell_type": "markdown",
      "metadata": {
        "id": "view-in-github",
        "colab_type": "text"
      },
      "source": [
        "<a href=\"https://colab.research.google.com/github/janitahaasini/120-project/blob/main/project_120.ipynb\" target=\"_parent\"><img src=\"https://colab.research.google.com/assets/colab-badge.svg\" alt=\"Open In Colab\"/></a>"
      ]
    },
    {
      "cell_type": "code",
      "execution_count": 6,
      "metadata": {
        "colab": {
          "base_uri": "https://localhost:8080/"
        },
        "id": "B7KTiSy0K8Q-",
        "outputId": "d8ddb9b8-6bba-489a-d3a9-b7d028a59178"
      },
      "outputs": [
        {
          "output_type": "stream",
          "name": "stdout",
          "text": [
            "Features:  ['alcohol', 'malic_acid', 'ash', 'alcalinity_of_ash', 'magnesium', 'total_phenols', 'flavanoids', 'nonflavanoid_phenols', 'proanthocyanins', 'color_intensity', 'hue', 'od280/od315_of_diluted_wines', 'proline']\n",
            "Labels:  ['class_0' 'class_1' 'class_2']\n"
          ]
        }
      ],
      "source": [
        "from sklearn import datasets \n",
        "wine=datasets.load_wine()\n",
        "print(\"Features: \", wine.feature_names)\n",
        "print(\"Labels: \", wine.target_names)\n"
      ]
    },
    {
      "cell_type": "code",
      "source": [
        "from sklearn.model_selection import train_test_split\n",
        "X=wine.data\n",
        "y=wine.target\n",
        "X_train_1,X_test_1,y_train_1,y_test_1=train_test_split(X,y,test_size=0.75,random_state=42)\n",
        "from sklearn.naive_bayes import GaussianNB\n",
        "from sklearn.metrics import accuracy_score\n",
        "from sklearn.preprocessing import StandardScaler\n",
        "sc=StandardScaler()\n",
        "X_train_1=sc.fit_transform(X_train_1)\n",
        "X_test_1=sc.fit_transform(X_test_1)\n",
        "model_1=GaussianNB()\n",
        "model_1.fit(X_train_1,y_train_1)\n",
        "y_pred_1=model_1.predict(X_test_1)\n",
        "accuracy=accuracy_score(y_test_1,y_pred_1)\n",
        "print(accuracy)"
      ],
      "metadata": {
        "colab": {
          "base_uri": "https://localhost:8080/"
        },
        "id": "ZYxF7DODN1L7",
        "outputId": "2ca5cb44-86d1-4dff-f370-1bed63ff15b7"
      },
      "execution_count": 9,
      "outputs": [
        {
          "output_type": "stream",
          "name": "stdout",
          "text": [
            "0.9626865671641791\n"
          ]
        }
      ]
    }
  ]
}